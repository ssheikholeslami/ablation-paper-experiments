{
 "cells": [
  {
   "cell_type": "code",
   "execution_count": 1,
   "metadata": {},
   "outputs": [
    {
     "name": "stdout",
     "output_type": "stream",
     "text": [
      "Starting Spark application\n"
     ]
    },
    {
     "data": {
      "text/html": [
       "<table>\n",
       "<tr><th>ID</th><th>YARN Application ID</th><th>Kind</th><th>State</th><th>Spark UI</th><th>Driver log</th></tr><tr><td>111</td><td>application_1596125182098_0115</td><td>pyspark</td><td>idle</td><td><a target=\"_blank\" href=\"http://resourcemanager.service.consul:8088/proxy/application_1596125182098_0115/\">Link</a></td><td><a target=\"_blank\" href=\"http://hopspom:8042/node/containerlogs/container_e01_1596125182098_0115_01_000001/Inception_v3__meb10000\">Link</a></td></tr></table>"
      ],
      "text/plain": [
       "<IPython.core.display.HTML object>"
      ]
     },
     "metadata": {},
     "output_type": "display_data"
    },
    {
     "name": "stdout",
     "output_type": "stream",
     "text": [
      "SparkSession available as 'spark'.\n"
     ]
    }
   ],
   "source": [
    "def create_dataset():\n",
    "    import numpy as np\n",
    "    from PIL import Image\n",
    "    import os\n",
    "    import pathlib\n",
    "    from hops import hdfs\n",
    "    import shutil\n",
    "    \n",
    "    hdfs.ls(hdfs.project_path())\n",
    "    hdfs.copy_to_local('TenGeoPSARwv/ML_PNG_SMALL_RESIZED', overwrite=True)\n",
    "    data_dir = './ML_PNG_SMALL_RESIZED'\n",
    "    data_dir = pathlib.Path(data_dir)\n",
    "    CLASS_NAMES = np.array(sorted([item.name for item in data_dir.glob('train/*')]))\n",
    "\n",
    "    train_image_path_list = list(data_dir.glob('train/*/*.png'))\n",
    "    validation_image_path_list = list(data_dir.glob('validation/*/*.png'))\n",
    "    test_image_path_list = list(data_dir.glob('test/*/*.png'))\n",
    "    \n",
    "    \n",
    "    def get_np_dataset_from_path_list(path_list):\n",
    "        X = []\n",
    "        y = []\n",
    "        for image_path in path_list:\n",
    "            image = np.array(Image.open(image_path).getdata()).reshape((299,299))\n",
    "            # image.shape\n",
    "            image = np.stack([image, image, image], axis=-1)\n",
    "            # image.shape\n",
    "            label = str(image_path).split('/')[-2]\n",
    "            one_hot_label = (label == CLASS_NAMES)\n",
    "            X.append(image)\n",
    "            y.append(one_hot_label)\n",
    "        return np.asarray(X), np.asarray(y)\n",
    "    \n",
    "    X_train, y_train = get_np_dataset_from_path_list(train_image_path_list)\n",
    "    X_validation, y_validation = get_np_dataset_from_path_list(validation_image_path_list)\n",
    "    X_test, y_test = get_np_dataset_from_path_list(test_image_path_list)\n",
    "    \n",
    "    return X_train, y_train, X_validation, y_validation, X_test, y_test"
   ]
  },
  {
   "cell_type": "code",
   "execution_count": 2,
   "metadata": {},
   "outputs": [],
   "source": [
    "def base_model_generator():\n",
    "    \n",
    "    import tensorflow as tf\n",
    "    \n",
    "\n",
    "    my_inception = tf.keras.applications.inception_v3.InceptionV3()\n",
    "    input_layer = my_inception.input\n",
    "    hidden_layer = my_inception.layers[-2].output\n",
    "\n",
    "    added_layer = tf.keras.layers.Dense(10, activation='softmax')(hidden_layer)\n",
    "    cust_inception_v3 = tf.keras.Model(inputs=input_layer, outputs=added_layer, name='customized_inception_v3')\n",
    "    \n",
    "    return cust_inception_v3"
   ]
  },
  {
   "cell_type": "code",
   "execution_count": 3,
   "metadata": {},
   "outputs": [],
   "source": [
    "def training_fn(dataset_function, model_function):\n",
    "\n",
    "    import tensorflow as tf\n",
    "    import datetime\n",
    "    \n",
    "    \n",
    "    tf.enable_eager_execution()\n",
    "    tf.reset_default_graph()\n",
    "    \n",
    "    tf.keras.backend.clear_session()\n",
    "\n",
    "    tf.random.set_random_seed(1234)\n",
    "    \n",
    "    start_time = datetime.datetime.now()\n",
    "    print(\"Trial started on: \", start_time)\n",
    "\n",
    "    \n",
    "    gpus = tf.config.experimental.list_physical_devices('GPU')\n",
    "    if gpus:\n",
    "      # Restrict TensorFlow to only use the first GPU\n",
    "      try:\n",
    "        tf.config.experimental.set_visible_devices(gpus[0], 'GPU')\n",
    "        tf.config.experimental.set_memory_growth(gpus[0], True)\n",
    "        \n",
    "\n",
    "        logical_gpus = tf.config.experimental.list_logical_devices('GPU')\n",
    "#         print(len(gpus), \"Physical GPUs,\", len(logical_gpus), \"Logical GPU\")\n",
    "      except RuntimeError as e:\n",
    "        # Visible devices must be set before GPUs have been initialized\n",
    "        print(e)\n",
    "\n",
    "    # use this strategy to test your code before switching to other strategies which actually distributes to multiple devices/machines.\n",
    "    strategy = tf.distribute.OneDeviceStrategy(device=\"/gpu:0\")\n",
    "\n",
    "    X_train, y_train, X_validation, y_validation, X_test, y_test = dataset_function()\n",
    "    cust_inception_v3 = model_function()\n",
    "    \n",
    "    # compile the model\n",
    "    cust_inception_v3.compile(optimizer='adam',\n",
    "                          loss=tf.keras.losses.CategoricalCrossentropy(from_logits=True),\n",
    "                          metrics=['accuracy'])\n",
    "\n",
    "    history = cust_inception_v3.fit(X_train, y_train, epochs=40, validation_data=(X_validation, y_validation), verbose=0)\n",
    "    test_score = cust_inception_v3.evaluate(X_test, y_test)\n",
    "    \n",
    "    print('Test loss:', test_score[0])\n",
    "    print('Test accuracy:', test_score[1])\n",
    "    \n",
    "    tf.keras.backend.clear_session()\n",
    "\n",
    "    end_time = datetime.datetime.now()\n",
    "    \n",
    "    print(\"Trial completed on: \", end_time)\n",
    "\n",
    "    trial_time = end_time - start_time\n",
    "    \n",
    "    print(\"Trial duration: \", trial_time.total_seconds())\n",
    "    \n",
    "    tf.keras.backend.clear_session()\n",
    "    tf.reset_default_graph()\n",
    "\n",
    "\n",
    "    return test_score[1]"
   ]
  },
  {
   "cell_type": "code",
   "execution_count": 4,
   "metadata": {},
   "outputs": [],
   "source": [
    "from maggy.ablation import AblationStudy\n",
    "\n",
    "ablation_study = AblationStudy(\"TenGeoPSARwv\", 1, \"type\",)\n",
    "ablation_study.set_dataset_generator(create_dataset)\n",
    "ablation_study.model.set_base_model_generator(base_model_generator)\n",
    "\n",
    "ablation_study.model.add_module('mixed0', 'mixed1')\n",
    "ablation_study.model.add_module('mixed2', 'mixed3')\n",
    "ablation_study.model.add_module('mixed4', 'mixed5')"
   ]
  },
  {
   "cell_type": "code",
   "execution_count": 5,
   "metadata": {},
   "outputs": [
    {
     "data": {
      "application/vnd.jupyter.widget-view+json": {
       "model_id": "27fc021e35a34ccba46f634222222de2",
       "version_major": 2,
       "version_minor": 0
      },
      "text/plain": [
       "HBox(children=(FloatProgress(value=0.0, description='Maggy experiment', max=4.0, style=ProgressStyle(descripti…"
      ]
     },
     "metadata": {},
     "output_type": "display_data"
    },
    {
     "name": "stdout",
     "output_type": "stream",
     "text": [
      "0: Trial started on:  2020-08-01 22:58:46.071190\n",
      "0: Started copying hdfs://rpc.namenode.service.consul:8020/Projects/Inception_v3/TenGeoPSARwv/ML_PNG_SMALL_RESIZED to local disk on path /srv/hops/hopsdata/tmp/nm-local-dir/usercache/6B9maGNWZKY591Qiydpfx6wG5dR3t5XMM0HHltffC3g/appcache/application_1596125182098_0115/container_e01_1596125182098_0115_01_000002/\n",
      "\n",
      "1: Trial started on:  2020-08-01 22:58:48.902350\n",
      "1: Started copying hdfs://rpc.namenode.service.consul:8020/Projects/Inception_v3/TenGeoPSARwv/ML_PNG_SMALL_RESIZED to local disk on path /srv/hops/hopsdata/tmp/nm-local-dir/usercache/6B9maGNWZKY591Qiydpfx6wG5dR3t5XMM0HHltffC3g/appcache/application_1596125182098_0115/container_e01_1596125182098_0115_01_000003/\n",
      "\n",
      "2: Trial started on:  2020-08-01 22:58:50.190705\n",
      "2: Started copying hdfs://rpc.namenode.service.consul:8020/Projects/Inception_v3/TenGeoPSARwv/ML_PNG_SMALL_RESIZED to local disk on path /srv/hops/hopsdata/tmp/nm-local-dir/usercache/6B9maGNWZKY591Qiydpfx6wG5dR3t5XMM0HHltffC3g/appcache/application_1596125182098_0115/container_e01_1596125182098_0115_01_000004/\n",
      "\n",
      "3: Trial started on:  2020-08-01 22:58:51.945109\n",
      "3: Started copying hdfs://rpc.namenode.service.consul:8020/Projects/Inception_v3/TenGeoPSARwv/ML_PNG_SMALL_RESIZED to local disk on path /srv/hops/hopsdata/tmp/nm-local-dir/usercache/6B9maGNWZKY591Qiydpfx6wG5dR3t5XMM0HHltffC3g/appcache/application_1596125182098_0115/container_e01_1596125182098_0115_01_000005/\n",
      "\n",
      "0: Finished copying\n",
      "\n",
      "1: Finished copying\n",
      "\n",
      "2: Finished copying\n",
      "\n",
      "3: Finished copying\n",
      "\n",
      "0: Test loss: 2.253107452392578\n",
      "0: Test accuracy: 0.2\n",
      "0: Trial completed on:  2020-08-01 23:03:16.491928\n",
      "0: Trial duration:  270.420738\n",
      "2: Test loss: 2.171463623046875\n",
      "2: Test accuracy: 0.29\n",
      "2: Trial completed on:  2020-08-01 23:03:34.666904\n",
      "2: Trial duration:  284.476199\n",
      "3: Test loss: 1.6968309783935547\n",
      "3: Test accuracy: 0.765\n",
      "3: Trial completed on:  2020-08-01 23:03:41.359047\n",
      "3: Trial duration:  289.413938\n",
      "1: Test loss: 2.208788366317749\n",
      "1: Test accuracy: 0.26\n",
      "1: Trial completed on:  2020-08-01 23:08:20.310982\n",
      "1: Trial duration:  571.408632\n",
      "Started Maggy Experiment: Inception-3-modules-40-epochs-4-PARALLEL, application_1596125182098_0115, run 1\n",
      "\n",
      "------ LOCO Results ------ \n",
      "BEST Config Excludes {\"ablated_feature\": \"None\", \"ablated_layer\": \"None\"} -- metric 0.765\n",
      "WORST Config Excludes {\"ablated_feature\": \"None\", \"ablated_layer\": \"All layers between mixed4 and mixed5\"} -- metric 0.2\n",
      "AVERAGE metric -- 0.378749992698431\n",
      "Total Job Time 0 hours, 10 minutes, 32 seconds\n",
      "\n",
      "Finished Experiment\n"
     ]
    }
   ],
   "source": [
    "from maggy import experiment\n",
    "\n",
    "result = experiment.lagom(map_fun=training_fn, experiment_type='ablation',\n",
    "                           ablation_study=ablation_study, \n",
    "                           ablator='loco', \n",
    "                           name='Inception-3-modules-40-epochs-4-PARALLEL'\n",
    "                          )"
   ]
  },
  {
   "cell_type": "markdown",
   "metadata": {},
   "source": [
    "# The END"
   ]
  }
 ],
 "metadata": {
  "kernelspec": {
   "display_name": "PySpark",
   "language": "python",
   "name": "pysparkkernel"
  },
  "language_info": {
   "codemirror_mode": {
    "name": "python",
    "version": 3
   },
   "mimetype": "text/x-python",
   "name": "pyspark",
   "pygments_lexer": "python3"
  }
 },
 "nbformat": 4,
 "nbformat_minor": 4
}